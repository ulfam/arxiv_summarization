{
  "cells": [
    {
      "cell_type": "code",
      "execution_count": null,
      "id": "578d6a90",
      "metadata": {
        "id": "578d6a90"
      },
      "outputs": [],
      "source": [
        "!pip install openai tiktoken chromadb langchain"
      ]
    },
    {
      "cell_type": "code",
      "source": [
        "!pip install pypdf"
      ],
      "metadata": {
        "colab": {
          "base_uri": "https://localhost:8080/"
        },
        "id": "hs3FAaqArn-U",
        "outputId": "62e80f34-2f1e-4c6f-86e1-37d43826a33a"
      },
      "id": "hs3FAaqArn-U",
      "execution_count": 2,
      "outputs": [
        {
          "output_type": "stream",
          "name": "stdout",
          "text": [
            "Requirement already satisfied: pypdf in /usr/local/lib/python3.10/dist-packages (3.17.4)\n"
          ]
        }
      ]
    },
    {
      "cell_type": "code",
      "source": [],
      "metadata": {
        "id": "zXnQAmobtq1d"
      },
      "id": "zXnQAmobtq1d",
      "execution_count": 90,
      "outputs": []
    },
    {
      "cell_type": "code",
      "source": [
        "from pypdf import PdfReader, PdfWriter\n",
        "from langchain.chains.summarize import load_summarize_chain\n",
        "from langchain.chat_models import ChatOpenAI\n",
        "from langchain.document_loaders import TextLoader\n",
        "from transformers import pipeline\n",
        "\n",
        "from langchain.chains.combine_documents.stuff import StuffDocumentsChain\n",
        "from langchain.chains.llm import LLMChain\n",
        "from langchain.prompts import PromptTemplate\n",
        "from urllib import request\n",
        "from urllib.request import urlopen\n",
        "import io"
      ],
      "metadata": {
        "id": "Fm2WRpBfc1om"
      },
      "id": "Fm2WRpBfc1om",
      "execution_count": 104,
      "outputs": []
    },
    {
      "cell_type": "code",
      "source": [],
      "metadata": {
        "id": "xHARUXF15Ah1"
      },
      "id": "xHARUXF15Ah1",
      "execution_count": null,
      "outputs": []
    },
    {
      "cell_type": "code",
      "source": [
        "import os\n",
        "import openai\n",
        "\n",
        "#use your openai api key here\n",
        "my_key = os.getenv(OPENAI_API_KEY)"
      ],
      "metadata": {
        "id": "xnsb5uzh5AGu"
      },
      "id": "xnsb5uzh5AGu",
      "execution_count": null,
      "outputs": []
    },
    {
      "cell_type": "code",
      "source": [
        "def load_pdf(url, file_path):\n",
        "  writer = PdfWriter()\n",
        "  remoteFile = urlopen(url).read()\n",
        "  memoryFile = io.BytesIO(remoteFile)\n",
        "  pdfFile = PdfReader(memoryFile)\n",
        "  text = \"\"\n",
        "  for page in range(len(pdfFile.pages)):\n",
        "    text = text + pdfFile.pages[page].extract_text()\n",
        "  with open(file_path, \"w\") as f:\n",
        "    f.write(text)"
      ],
      "metadata": {
        "id": "cHrH7C_CaoaG"
      },
      "id": "cHrH7C_CaoaG",
      "execution_count": 125,
      "outputs": []
    },
    {
      "cell_type": "code",
      "source": [],
      "metadata": {
        "id": "DxltlP0s34UX"
      },
      "id": "DxltlP0s34UX",
      "execution_count": 127,
      "outputs": []
    },
    {
      "cell_type": "code",
      "source": [
        "def scan_pdf(file_path, text_path):\n",
        "  reader = PdfReader(file_path)\n",
        "  text = \"\"\n",
        "  for page in range(len(reader.pages)):\n",
        "    text = text + reader.pages[page].extract_text()\n",
        "  with open('initial_text.txt', \"w\") as f:\n",
        "    f.write(text)\n",
        "\n",
        "\n",
        "def get_summary(file_path, openai_api_key):\n",
        "  # Reat text file\n",
        "  loader = TextLoader(file_path)\n",
        "  document = loader.load()\n",
        "  # Define prompt\n",
        "  prompt_template = \"\"\"\n",
        "  Write a concise summary of the following text delimited by triple backquotes. Return your response in Russian in bullet points which covers the key points of the text.\n",
        "  ```{text}```\n",
        "  BULLET POINT SUMMARY:\n",
        "  \"\"\"\n",
        "  prompt = PromptTemplate.from_template(prompt_template)\n",
        "  # Define LLM chain\n",
        "  llm = ChatOpenAI(temperature=0, model_name=\"gpt-3.5-turbo-16k\", openai_api_key=openai_api_key)\n",
        "  llm_chain = LLMChain(llm=llm, prompt=prompt)\n",
        "  # Define StuffDocumentsChain\n",
        "  stuff_chain = StuffDocumentsChain(llm_chain=llm_chain, document_variable_name=\"text\")\n",
        "  answer = str(stuff_chain.run(document))\n",
        "  return answer\n",
        "\n",
        "\n",
        "def load_model():\n",
        "  return pipeline('translation_en_to_rus', model='Helsinki-NLP/opus-mt-en-ru')\n",
        "\n",
        "\n",
        "def process_data(text, translator):\n",
        "    text_splitted = text.split('\\n')\n",
        "    tr_concat = \"\"\n",
        "    for i in text_splitted:\n",
        "      response = translator(i)[0]['translation_text']\n",
        "      tr_concat = tr_concat + response + \"\\n\"\n",
        "    return tr_concat"
      ],
      "metadata": {
        "id": "YeMT4ms2eSpB"
      },
      "id": "YeMT4ms2eSpB",
      "execution_count": 128,
      "outputs": []
    },
    {
      "cell_type": "code",
      "source": [
        "def sum_arxiv(arxiv_paper_url, text_file_name, openai_api_key):\n",
        "  # Read article from pdf\n",
        "  load_pdf(arxiv_paper_url, text_file_name)\n",
        "  # Summarize text with OpenAI\n",
        "  summary = get_summary(text_file_name, openai_api_key)\n",
        "  print(f\"Summary:\\n{summary}\")\n",
        "  return response"
      ],
      "metadata": {
        "id": "loaQrC-DYe0w"
      },
      "id": "loaQrC-DYe0w",
      "execution_count": 129,
      "outputs": []
    },
    {
      "cell_type": "code",
      "source": [
        "rus_summary = sum_arxiv('https://arxiv.org/pdf/1903.04936.pdf','initial_text_2.txt', my_key)"
      ],
      "metadata": {
        "colab": {
          "base_uri": "https://localhost:8080/"
        },
        "id": "anoFEXTyzojh",
        "outputId": "00c0969e-7c57-4a6c-e93f-092ff2f23612"
      },
      "id": "anoFEXTyzojh",
      "execution_count": 130,
      "outputs": [
        {
          "output_type": "stream",
          "name": "stdout",
          "text": [
            "Summary:\n",
            "- В данной статье представлена структура данных k-d tree и доказано, что вычисление соседей в этой структуре выполняется за ожидаемое логарифмическое время.\n",
            "- k-d tree был представлен в 1977 году и имеет применение в поиске соседей и ортогональных диапазонах.\n",
            "- Построение k-d tree занимает Θ(n·log(n)) времени и требует Θ(n) памяти.\n",
            "- Ожидаемое время выполнения запроса на поиск соседей в k-d tree составляет O(log(n)).\n",
            "- Доказательство основано на использовании бета-распределения и показывает практическую значимость k-d tree для вычисления соседей в геометрической обработке.\n"
          ]
        }
      ]
    },
    {
      "cell_type": "code",
      "source": [],
      "metadata": {
        "id": "05c3_GmGDoTD"
      },
      "id": "05c3_GmGDoTD",
      "execution_count": null,
      "outputs": []
    }
  ],
  "metadata": {
    "kernelspec": {
      "display_name": "poetry-venv",
      "language": "python",
      "name": "poetry-venv"
    },
    "language_info": {
      "codemirror_mode": {
        "name": "ipython",
        "version": 3
      },
      "file_extension": ".py",
      "mimetype": "text/x-python",
      "name": "python",
      "nbconvert_exporter": "python",
      "pygments_lexer": "ipython3",
      "version": "3.9.1"
    },
    "colab": {
      "provenance": []
    }
  },
  "nbformat": 4,
  "nbformat_minor": 5
}